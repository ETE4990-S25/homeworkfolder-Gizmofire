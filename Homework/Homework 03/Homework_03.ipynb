{
 "cells": [
  {
   "cell_type": "markdown",
   "metadata": {},
   "source": [
    "# Homework #3: \n",
    "Creating and Using Python Classes with JSON\n",
    "\n",
    "## Instructions:\n",
    "### 1. Create a Python file named `data_classes.py` with the following content:\n",
    "- Define a class `Person` with attributes `name`, `age`, and `email`.\n",
    "- Define a class `Student` that inherits from `Person` and adds an attribute `student_id`.\n",
    "- Include a method to save the data of these instances into a JSON file.\n",
    "- Include a method to display the JSON content on the screen.\n",
    "\n",
    "\n",
    "hints:\n",
    "```python\n",
    "class Person(object):\n",
    "    #do stuff\n",
    "\n",
    "class Student(Person):\n",
    "    #do stuff\n",
    "\n",
    "\n",
    "#use json.dump \n",
    "'last_name': fake.last_name()\n",
    "'first_name': fake.first_name()\n",
    "'email': fake.email()\n",
    "'student_id': fake.age\n",
    "```\n",
    "\n",
    "### 2. Write a Jupyter Notebook that:\n",
    "- Imports the classes from `data_classes.py`.\n",
    "- Creates instances of `Person` and `Student`.\n",
    " - Calls the methods to save data to a JSON file and display the JSON content.\n",
    "\n",
    "```python\n",
    "from data_classes import Student as dc\n",
    "from data_classes import Saver\n",
    "bill = dc(\"bill\",12,\"bill@cool.com\",1234)\n",
    "saver(bill)\n",
    "```\n",
    "\n",
    "###  Step 3: Verify the JSON file content\n",
    "This step should be done by running the display_json method in the Jupyter Notebook I expect you to use your Jupyter notebook to explain any work and thought processes you had while working on your Homework. Consider your Jupyter notebook your \"Lab Report\" and the Homework is your .py file.\n",
    "\n"
   ]
  },
  {
   "cell_type": "markdown",
   "metadata": {},
   "source": [
    "\n",
    "\n",
    "\n",
    "\n",
    "\n",
    "Your json file should look like the following when you are done\n",
    "\n",
    "```JSON\n",
    "[\n",
    "    {\n",
    "        \"last_name\": \"Taylor\", \n",
    "        \"first_name\": \"Jose\", \n",
    "        \"street_address\": \"571 Travis Forest Suite 210\", \n",
    "        \"email\": \"marysanchez@example.org\", \"age\": \"Saturday 30. August 2008\", \"index\": 0\n",
    "    },\n",
    "    {\n",
    "        \"last_name\": \"Stevenson\", \n",
    "        \"first_name\": \"Tyler\", \n",
    "        \"street_address\": \"529 Washington Neck\", \n",
    "        \"email\": \"leekatrina@example.org\", \n",
    "        \"age\": \"Wednesday 25. January 1995\", \n",
    "        \"index\": 1\n",
    "    } \n",
    "]\n",
    "```"
   ]
  },
  {
   "cell_type": "code",
   "execution_count": 1,
   "metadata": {},
   "outputs": [
    {
     "name": "stdout",
     "output_type": "stream",
     "text": [
      "json: \n",
      " [\n",
      "    {\n",
      "        \"first_name\": \"bill\",\n",
      "        \"last_name\": \"doe\",\n",
      "        \"age\": 12,\n",
      "        \"email\": \"bill@cool.com\",\n",
      "        \"street_address\": \"adddr 123 \",\n",
      "        \"index\": 0,\n",
      "        \"student_id\": 1234\n",
      "    },\n",
      "    {\n",
      "        \"first_name\": \"sam\",\n",
      "        \"last_name\": \"Doe\",\n",
      "        \"age\": 21,\n",
      "        \"email\": \"123@gmail.com\",\n",
      "        \"street_address\": \"1234 Main St\",\n",
      "        \"index\": 1\n",
      "    }\n",
      "]\n",
      "json wrote to file\n"
     ]
    }
   ],
   "source": [
    "from data_classes import Student as dc\n",
    "from data_classes import Person as pp\n",
    "from data_classes import saver\n",
    "\n",
    "\n",
    "\n",
    "bill = dc(\"bill\", \"doe\", 12,\"bill@cool.com\",\"adddr 123 \",1234)\n",
    "sam = pp(\"sam\", \"Doe\", 21, \"123@gmail.com\", \"1234 Main St\")\n",
    "\n",
    "combined_data = [\n",
    "        bill.__dict__,\n",
    "        sam.__dict__\n",
    "    ]\n",
    "\n",
    "saver(combined_data, \"data.json\")\n",
    "\n",
    "\n",
    "\n"
   ]
  },
  {
   "cell_type": "code",
   "execution_count": null,
   "metadata": {},
   "outputs": [],
   "source": []
  }
 ],
 "metadata": {
  "kernelspec": {
   "display_name": "Python 3",
   "language": "python",
   "name": "python3"
  },
  "language_info": {
   "codemirror_mode": {
    "name": "ipython",
    "version": 3
   },
   "file_extension": ".py",
   "mimetype": "text/x-python",
   "name": "python",
   "nbconvert_exporter": "python",
   "pygments_lexer": "ipython3",
   "version": "3.11.9"
  }
 },
 "nbformat": 4,
 "nbformat_minor": 2
}
