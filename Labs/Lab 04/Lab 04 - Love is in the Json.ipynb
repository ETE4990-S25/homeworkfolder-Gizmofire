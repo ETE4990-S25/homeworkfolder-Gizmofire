{
 "cells": [
  {
   "cell_type": "markdown",
   "metadata": {},
   "source": [
    "# Valentine's Day Lab Assignment\n",
    "Picking a Romantic Movie\n",
    "\n",
    "## Instructions:\n",
    "1. Download a dataset of romantic movies from a public dataset repository (e.g., Kaggle).\n",
    "   - Example dataset: \"Romantic Movies Dataset\" (ensure it's in JSON format).\n",
    "2. Load the dataset from the JSON file.\n",
    "3. Create a function that helps pick a romantic movie based on user preferences.\n",
    "4. Display the selected movie details.\n",
    "5. Verify the JSON file content\n",
    "\n"
   ]
  },
  {
   "cell_type": "code",
   "execution_count": null,
   "metadata": {},
   "outputs": [],
   "source": [
    "# Sample Code:\n",
    "min_rating = float(input(\"Enter the minimum rating (0-10): \"))\n",
    "max_year = int(input(\"Enter the latest release year: \"))\n",
    "\n",
    "selected_movie = pick_movie(data, min_rating, max_year)\n",
    "\n",
    "if isinstance(selected_movie, str):\n",
    "    print(selected_movie)\n",
    "else:\n",
    "    print(f\"Selected Movie: {selected_movie['Title']}\")\n",
    "    print(f\"Year: {selected_movie['Year']}\")\n",
    "    print(f\"Rating: {selected_movie['Rating']}\")\n",
    "    print(f\"Box Office: ${selected_movie['BoxOffice']} million\")"
   ]
  },
  {
   "cell_type": "markdown",
   "metadata": {},
   "source": [
    "We are using this data set https://www.kaggle.com/datasets/harshitshankhdhar/imdb-dataset-of-top-1000-movies-and-tv-shows/data\n",
    "\n"
   ]
  },
  {
   "cell_type": "code",
   "execution_count": null,
   "metadata": {},
   "outputs": [],
   "source": [
    "import kagglehub\n",
    "\n",
    "# Download latest version\n",
    "path = kagglehub.dataset_download(\"harshitshankhdhar/imdb-dataset-of-top-1000-movies-and-tv-shows\")\n",
    "\n",
    "print(\"Path to dataset files:\", path)"
   ]
  },
  {
   "cell_type": "markdown",
   "metadata": {},
   "source": [
    "Couldn't use dataset since its using a csv which pandas would be useful for querying .\n",
    "\n",
    "Going to use this dataset with romance movies since its a json \n",
    "https://github.com/vega/vega/blob/main/docs/data/movies.json"
   ]
  },
  {
   "cell_type": "code",
   "execution_count": null,
   "metadata": {},
   "outputs": [],
   "source": [
    "import json\n",
    "\n",
    "# Load the JSON data from the file\n",
    "# with open('movies.json', 'r') as file:\n",
    "#     movies = json.load(file)\n",
    "\n",
    "\n",
    "# Ensure the file is read with the correct encoding - used chatgpt here to solve why the file isnt opening due to an encoding error issue\n",
    "with open('movies.json', 'r', encoding='utf-8') as file:\n",
    "    movies = json.load(file)\n",
    "\n",
    "\n",
    "\n",
    "r_movies = []\n",
    "for movie in movies: \n",
    "    if movie[\"Major Genre\"] == \"Romantic Comedy\":\n",
    "        # print(movie[\"Title\"])\n",
    "        r_movies.append(movie)\n",
    "\n",
    "state = True\n",
    "while state:\n",
    "\n",
    "    filters = [\"1) IMDB Rating\", \"2) IMDB Votes\", \"3) BoxOffice\", \"4) Running Time min\", \"5) Exit\"] \n",
    "\n",
    "    applied_filters = []\n",
    "    filtered_set = []\n",
    "    x = input(\"Enter the filter you want to apply: \")\n",
    "    for i in applied_filters:\n",
    "        if x == i:\n",
    "            print(\"Filter already applied\")\n",
    "            \n",
    "        else:\n",
    "            applied_filters.append(x)\n",
    "\n",
    "            if x == 1:\n",
    "                y = float(input(\"Enter the minimum rating: \"))\n",
    "                for movie in r_movies:\n",
    "                    if movie[\"IMDB Rating\"] > y:\n",
    "                        filtered_set.append(movie)\n",
    "\n",
    "            elif x == 2:\n",
    "                y = int(input(\"Enter the minimum votes: \"))\n",
    "                for movie in r_movies:\n",
    "                    if movie[\"IMDB Votes\"] > y:\n",
    "                        filtered_set.append(movie)\n",
    "\n",
    "            elif x == 3:\n",
    "                y = int(input(\"Enter the minimum box office dollar amount: \"))\n",
    "                for movie in r_movies:\n",
    "                    if movie[\"BoxOffice\"] > y:\n",
    "                        filtered_set.append(movie)\n",
    "\n",
    "            elif x == 4:\n",
    "                y = int(input(\"Enter the minimum running time: \"))\n",
    "                for movie in r_movies:\n",
    "                    if movie[\"Running Time min\"] > y:\n",
    "                        filtered_set.append(movie)\n",
    "\n",
    "\n",
    "            elif x == 5:\n",
    "                state = False\n",
    "\n",
    "\n",
    "\n",
    "\n",
    "\n",
    "\n",
    "\n",
    "\n",
    "\n",
    "\n",
    "print(r_movies)\n",
    "\n",
    "# Search for romance moviesRunning Time min\"\n",
    "# romance_movies = [movie for movie in movies if movie.get(\"Major Genre\") == \"Romantic Comedy\"]\n",
    "\n",
    "# Print the titles of the romance movies\n",
    "# for movie in romance_movies:\n",
    "#     # print(movie[\"Title\"])\n",
    "#     print(movie)"
   ]
  }
 ],
 "metadata": {
  "kernelspec": {
   "display_name": "Python 3",
   "language": "python",
   "name": "python3"
  },
  "language_info": {
   "codemirror_mode": {
    "name": "ipython",
    "version": 3
   },
   "file_extension": ".py",
   "mimetype": "text/x-python",
   "name": "python",
   "nbconvert_exporter": "python",
   "pygments_lexer": "ipython3",
   "version": "3.11.9"
  }
 },
 "nbformat": 4,
 "nbformat_minor": 2
}
