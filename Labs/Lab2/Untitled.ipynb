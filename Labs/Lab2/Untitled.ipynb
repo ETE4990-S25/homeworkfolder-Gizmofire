{
 "cells": [
  {
   "cell_type": "code",
   "execution_count": 4,
   "id": "5720cf83-bd34-4992-b108-14a1c7613382",
   "metadata": {},
   "outputs": [
    {
     "name": "stdout",
     "output_type": "stream",
     "text": [
      "[1, 3, 5]\n"
     ]
    }
   ],
   "source": [
    "def remove_list( a,  b):\n",
    "    for x in b:\n",
    "        a.remove(x)\n",
    "\n",
    "\n",
    "\n",
    "list1 = [1,2,3,4,5,6]\n",
    "list2 = [2,4,6]\n",
    "\n",
    "remove_list(list1, list2)\n",
    "\n",
    "print(list1)\n"
   ]
  },
  {
   "cell_type": "code",
   "execution_count": null,
   "id": "76bae618-5cc1-4cc7-b699-6b38d9496677",
   "metadata": {},
   "outputs": [],
   "source": []
  }
 ],
 "metadata": {
  "kernelspec": {
   "display_name": "Python 3 (ipykernel)",
   "language": "python",
   "name": "python3"
  },
  "language_info": {
   "codemirror_mode": {
    "name": "ipython",
    "version": 3
   },
   "file_extension": ".py",
   "mimetype": "text/x-python",
   "name": "python",
   "nbconvert_exporter": "python",
   "pygments_lexer": "ipython3",
   "version": "3.12.8"
  }
 },
 "nbformat": 4,
 "nbformat_minor": 5
}
