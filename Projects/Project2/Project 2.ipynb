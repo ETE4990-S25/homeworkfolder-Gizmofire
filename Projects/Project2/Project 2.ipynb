{
 "cells": [
  {
   "cell_type": "markdown",
   "id": "0e76db5c",
   "metadata": {},
   "source": [
    "## Project # 2\n",
    "\n",
    "Create a Multiprocessing, Threaded and Asynchronous application that will calculate the highest prime number in 3 min.\n",
    "\n",
    "You must start a 0\n",
    "\n",
    "After you have created these programs analyze  the performance of each. IE: How long did it take to find prime number? Compare each prime and why each found that prime number. \n",
    "\n",
    "If you wish you can calculate any other non dependent item and them perform analyses.\n",
    "\n",
    "For code consistancy use the following is_prime function.\n",
    "```python\n",
    "def is_prime(n):\n",
    "    if n <= 1:\n",
    "        return False\n",
    "    for i in range(2, int(n ** 0.5) + 1):\n",
    "        if n % i == 0:\n",
    "            return False\n",
    "    return True\n",
    "```\n",
    "    async       13,386,001\n",
    "    threaded(2) 10,747,921\n",
    "    "
   ]
  },
  {
   "cell_type": "code",
   "execution_count": null,
   "id": "2f6f7366",
   "metadata": {},
   "outputs": [],
   "source": [
    "def getStuff (Lists):\n",
    "    list1 = []\n",
    "    for List in Lists:\n",
    "        if (Lists[0] == 4):\n",
    "            list1.append(List);\n",
    "    return list1;\n"
   ]
  },
  {
   "cell_type": "code",
   "execution_count": null,
   "id": "967a1a3c",
   "metadata": {},
   "outputs": [],
   "source": [
    "getStuff([1,2,3,4,5])"
   ]
  },
  {
   "cell_type": "code",
   "execution_count": null,
   "id": "ab9e34fc",
   "metadata": {},
   "outputs": [],
   "source": [
    "a = 1\n",
    "for i in range(a,4):\n",
    "    print(i)\n",
    "\n",
    "    print(i)"
   ]
  },
  {
   "cell_type": "code",
   "execution_count": null,
   "id": "135f9993",
   "metadata": {},
   "outputs": [],
   "source": [
    "\n"
   ]
  },
  {
   "cell_type": "markdown",
   "id": "8bf073e0",
   "metadata": {},
   "source": [
    "New Directions !!!\n",
    "\n",
    "\n",
    "\n",
    "Part 1\n",
    "Run Multiprocessing, Threaded and Asynchronous code to find the highest prime number in 3 minutes.\n",
    "\n",
    "Part 2 \n",
    "Analyze the performance of operations.\n",
    "\n",
    "    - How long did it take to find the prime number.\n",
    "    - Finding Fib of prime number \n",
    "    - Finding Factorial of prime number\n"
   ]
  },
  {
   "attachments": {
    "multicire.png": {
     "image/png": "[encoded data removed]"
    }
   },
   "cell_type": "markdown",
   "id": "578e4b77",
   "metadata": {},
   "source": [
    "Mutlicore \n",
    "![multicire.png](attachment:multicire.png)\n",
    "\n"
   ]
  },
  {
   "attachments": {
    "async.png": {
     "image/png": "[encoded data removed]"
    }
   },
   "cell_type": "markdown",
   "id": "b4a31b98",
   "metadata": {},
   "source": [
    "aSYNC \n",
    "![async.png](attachment:async.png)\n"
   ]
  },
  {
   "cell_type": "markdown",
   "id": "12f13188",
   "metadata": {},
   "source": []
  }
 ],
 "metadata": {
  "kernelspec": {
   "display_name": "Python 3",
   "language": "python",
   "name": "python3"
  },
  "language_info": {
   "codemirror_mode": {
    "name": "ipython",
    "version": 3
   },
   "file_extension": ".py",
   "mimetype": "text/x-python",
   "name": "python",
   "nbconvert_exporter": "python",
   "pygments_lexer": "ipython3",
   "version": "3.12.3"
  }
 },
 "nbformat": 4,
 "nbformat_minor": 5
}
